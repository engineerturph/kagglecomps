{
 "cells": [
  {
   "cell_type": "markdown",
   "id": "da511b46",
   "metadata": {},
   "source": [
    "I think i will make this project after 1 more machine learning project.  \n",
    "I will learn state based learning better at that time  \n",
    "I will probably use TD learning + alpha beta pruning.  \n",
    "If i learn better later i will use Deep Q learning + monte carlo tree search.  "
   ]
  },
  {
   "cell_type": "code",
   "execution_count": null,
   "id": "755d1404",
   "metadata": {},
   "outputs": [],
   "source": []
  }
 ],
 "metadata": {
  "kernelspec": {
   "display_name": "Python 3 (ipykernel)",
   "language": "python",
   "name": "python3"
  },
  "language_info": {
   "codemirror_mode": {
    "name": "ipython",
    "version": 3
   },
   "file_extension": ".py",
   "mimetype": "text/x-python",
   "name": "python",
   "nbconvert_exporter": "python",
   "pygments_lexer": "ipython3",
   "version": "3.10.4"
  }
 },
 "nbformat": 4,
 "nbformat_minor": 5
}
